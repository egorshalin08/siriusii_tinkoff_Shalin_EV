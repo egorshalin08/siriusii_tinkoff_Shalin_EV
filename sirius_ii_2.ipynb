{
 "cells": [
  {
   "cell_type": "code",
   "execution_count": 15,
   "id": "363c32cf-dcf8-461c-a23d-755da26bcc04",
   "metadata": {},
   "outputs": [
    {
     "name": "stdout",
     "output_type": "stream",
     "text": [
      "Requirement already satisfied: matplotlib in c:\\users\\егор\\appdata\\local\\programs\\python\\python311\\lib\\site-packages (3.8.3)\n",
      "Requirement already satisfied: requests in c:\\users\\егор\\appdata\\local\\programs\\python\\python311\\lib\\site-packages (2.31.0)\n",
      "Requirement already satisfied: gensim in c:\\users\\егор\\appdata\\local\\programs\\python\\python311\\lib\\site-packages (4.3.2)\n",
      "Requirement already satisfied: pymorphy3 in c:\\users\\егор\\appdata\\local\\programs\\python\\python311\\lib\\site-packages (2.0.1)\n",
      "Requirement already satisfied: scikit-learn in c:\\users\\егор\\appdata\\local\\programs\\python\\python311\\lib\\site-packages (1.4.1.post1)\n",
      "Requirement already satisfied: bs4 in c:\\users\\егор\\appdata\\local\\programs\\python\\python311\\lib\\site-packages (0.0.2)\n",
      "Requirement already satisfied: nltk in c:\\users\\егор\\appdata\\local\\programs\\python\\python311\\lib\\site-packages (3.8.1)\n",
      "Requirement already satisfied: numpy in c:\\users\\егор\\appdata\\local\\programs\\python\\python311\\lib\\site-packages (1.26.4)\n",
      "Requirement already satisfied: contourpy>=1.0.1 in c:\\users\\егор\\appdata\\local\\programs\\python\\python311\\lib\\site-packages (from matplotlib) (1.2.0)\n",
      "Requirement already satisfied: cycler>=0.10 in c:\\users\\егор\\appdata\\local\\programs\\python\\python311\\lib\\site-packages (from matplotlib) (0.12.1)\n",
      "Requirement already satisfied: fonttools>=4.22.0 in c:\\users\\егор\\appdata\\local\\programs\\python\\python311\\lib\\site-packages (from matplotlib) (4.50.0)\n",
      "Requirement already satisfied: kiwisolver>=1.3.1 in c:\\users\\егор\\appdata\\local\\programs\\python\\python311\\lib\\site-packages (from matplotlib) (1.4.5)\n",
      "Requirement already satisfied: packaging>=20.0 in c:\\users\\егор\\appdata\\local\\programs\\python\\python311\\lib\\site-packages (from matplotlib) (24.0)\n",
      "Requirement already satisfied: pillow>=8 in c:\\users\\егор\\appdata\\local\\programs\\python\\python311\\lib\\site-packages (from matplotlib) (10.2.0)\n",
      "Requirement already satisfied: pyparsing>=2.3.1 in c:\\users\\егор\\appdata\\local\\programs\\python\\python311\\lib\\site-packages (from matplotlib) (3.1.2)\n",
      "Requirement already satisfied: python-dateutil>=2.7 in c:\\users\\егор\\appdata\\local\\programs\\python\\python311\\lib\\site-packages (from matplotlib) (2.9.0.post0)\n",
      "Requirement already satisfied: charset-normalizer<4,>=2 in c:\\users\\егор\\appdata\\local\\programs\\python\\python311\\lib\\site-packages (from requests) (3.3.2)\n",
      "Requirement already satisfied: idna<4,>=2.5 in c:\\users\\егор\\appdata\\local\\programs\\python\\python311\\lib\\site-packages (from requests) (3.6)\n",
      "Requirement already satisfied: urllib3<3,>=1.21.1 in c:\\users\\егор\\appdata\\local\\programs\\python\\python311\\lib\\site-packages (from requests) (2.2.1)\n",
      "Requirement already satisfied: certifi>=2017.4.17 in c:\\users\\егор\\appdata\\local\\programs\\python\\python311\\lib\\site-packages (from requests) (2024.2.2)\n",
      "Requirement already satisfied: scipy>=1.7.0 in c:\\users\\егор\\appdata\\local\\programs\\python\\python311\\lib\\site-packages (from gensim) (1.12.0)\n",
      "Requirement already satisfied: smart-open>=1.8.1 in c:\\users\\егор\\appdata\\local\\programs\\python\\python311\\lib\\site-packages (from gensim) (7.0.4)\n",
      "Requirement already satisfied: dawg-python>=0.7.1 in c:\\users\\егор\\appdata\\local\\programs\\python\\python311\\lib\\site-packages (from pymorphy3) (0.7.2)\n",
      "Requirement already satisfied: pymorphy3-dicts-ru in c:\\users\\егор\\appdata\\local\\programs\\python\\python311\\lib\\site-packages (from pymorphy3) (2.4.417150.4580142)\n",
      "Requirement already satisfied: joblib>=1.2.0 in c:\\users\\егор\\appdata\\local\\programs\\python\\python311\\lib\\site-packages (from scikit-learn) (1.3.2)\n",
      "Requirement already satisfied: threadpoolctl>=2.0.0 in c:\\users\\егор\\appdata\\local\\programs\\python\\python311\\lib\\site-packages (from scikit-learn) (3.4.0)\n",
      "Requirement already satisfied: beautifulsoup4 in c:\\users\\егор\\appdata\\local\\programs\\python\\python311\\lib\\site-packages (from bs4) (4.12.3)\n",
      "Requirement already satisfied: click in c:\\users\\егор\\appdata\\local\\programs\\python\\python311\\lib\\site-packages (from nltk) (8.1.7)\n",
      "Requirement already satisfied: regex>=2021.8.3 in c:\\users\\егор\\appdata\\local\\programs\\python\\python311\\lib\\site-packages (from nltk) (2023.12.25)\n",
      "Requirement already satisfied: tqdm in c:\\users\\егор\\appdata\\local\\programs\\python\\python311\\lib\\site-packages (from nltk) (4.66.2)\n",
      "Requirement already satisfied: six>=1.5 in c:\\users\\егор\\appdata\\local\\programs\\python\\python311\\lib\\site-packages (from python-dateutil>=2.7->matplotlib) (1.16.0)\n",
      "Requirement already satisfied: wrapt in c:\\users\\егор\\appdata\\local\\programs\\python\\python311\\lib\\site-packages (from smart-open>=1.8.1->gensim) (1.16.0)\n",
      "Requirement already satisfied: soupsieve>1.2 in c:\\users\\егор\\appdata\\local\\programs\\python\\python311\\lib\\site-packages (from beautifulsoup4->bs4) (2.5)\n",
      "Requirement already satisfied: colorama in c:\\users\\егор\\appdata\\local\\programs\\python\\python311\\lib\\site-packages (from click->nltk) (0.4.6)\n"
     ]
    }
   ],
   "source": [
    "!pip install matplotlib requests gensim pymorphy3 scikit-learn bs4 nltk numpy"
   ]
  },
  {
   "cell_type": "code",
   "execution_count": 1,
   "id": "9ba6c7ad-791d-45b9-aaaf-79a12a9b2425",
   "metadata": {},
   "outputs": [
    {
     "name": "stderr",
     "output_type": "stream",
     "text": [
      "[nltk_data] Downloading package stopwords to\n",
      "[nltk_data]     C:\\Users\\Егор\\AppData\\Roaming\\nltk_data...\n",
      "[nltk_data]   Package stopwords is already up-to-date!\n"
     ]
    },
    {
     "data": {
      "text/plain": [
       "True"
      ]
     },
     "execution_count": 1,
     "metadata": {},
     "output_type": "execute_result"
    }
   ],
   "source": [
    "import requests\n",
    "from bs4 import BeautifulSoup\n",
    "from gensim.models import Word2Vec\n",
    "import numpy as np\n",
    "import re\n",
    "import pymorphy3\n",
    "import nltk\n",
    "from sklearn.cluster import KMeans\n",
    "from sklearn.feature_extraction.text import TfidfVectorizer\n",
    "import matplotlib.pyplot as plt\n",
    "from collections import defaultdict\n",
    "nltk.download('stopwords')"
   ]
  },
  {
   "cell_type": "code",
   "execution_count": null,
   "id": "6ead8a01-2255-4c17-bd87-040ded8367e0",
   "metadata": {},
   "outputs": [],
   "source": [
    "url = 'https://otzovik.com/reviews/bank_tinkoff_kreditnie_sistemi/'\n",
    "\n",
    "headers = {\n",
    "    \"User-Agent\": \"Mozilla/5.0 (Windows NT 10.0; Win64; x64) AppleWebKit/537.36 (KHTML, like Gecko) Chrome/58.0.3029.110 Safari/537.36\"\n",
    "}"
   ]
  },
  {
   "cell_type": "code",
   "execution_count": null,
   "id": "ac99312a-1953-4311-a491-39942cf64815",
   "metadata": {},
   "outputs": [],
   "source": [
    "response_texts = []\n",
    "response_values = []\n",
    "response_dates = []"
   ]
  },
  {
   "cell_type": "code",
   "execution_count": null,
   "id": "5eb9b41b-b660-45f2-bcfb-60e84299c6d5",
   "metadata": {},
   "outputs": [],
   "source": [
    "for page_number in range(1, 423):\n",
    "    if page_number != 1:\n",
    "        url1 = url + str(page_number) + '/'\n",
    "    else:\n",
    "        url1 = url\n",
    "\n",
    "    page = requests.get(url1, headers=headers)\n",
    "\n",
    "    soup = BeautifulSoup(page.text, 'lxml')\n",
    "\n",
    "    url_to_full_response = soup.select(\"div.item-right > div.review-body-wrap > h3 > a\")\n",
    "\n",
    "    for i in range(len(url_to_full_response)):\n",
    "        url_to_full_response1 = url_to_full_response[i].split\n",
    "        url_to_full_response1 = 'https://' + url_to_full_response1[2][6:-1]\n",
    "\n",
    "        page_full_response = requests.get(url_to_full_response1, headers=headers)\n",
    "        soup1 = BeautifulSoup(page_full_response.text, 'lxml')\n",
    "\n",
    "        response_value = soup1.select(\"div.item-right > div.rating-wrap > div[class='rating-score tooltip-right'] > span\")\n",
    "        response_values.append(response_value[0].text)\n",
    "\n",
    "        rev_topic = soup1.select(\"div.item-right > h1\")\n",
    "        rev_topic = rev_topic[0].text\n",
    "\n",
    "        rev_plus = soup1.select(\"div.item-right > div.review-plus\")\n",
    "        rev_plus = rev_plus[0].text\n",
    "\n",
    "        rev_minus = soup1.select(\"div.item-right > div.review-minus\")\n",
    "        rev_minus = rev_minus[0].text\n",
    "\n",
    "        rev_text = soup1.select(\"div.item-right > div[class='review-body description']\")\n",
    "        rev_text = rev_text[0].text\n",
    "\n",
    "        all_rev_text = rev_topic + ' ' + rev_plus + ' ' + rev_minus + ' ' + rev_text\n",
    "\n",
    "        response_texts.append(all_rev_text)\n",
    "\n",
    "        rev_date = soup1.select(\"div.item-right > div.rating-wrap > span[class='review-postdate dtreviewed'] > span\")\n",
    "        response_dates.append(rev_date[0].text)\n"
   ]
  },
  {
   "cell_type": "code",
   "execution_count": null,
   "id": "501f47ca-de01-4621-ba28-39be33539ddd",
   "metadata": {},
   "outputs": [],
   "source": [
    "morph = pymorphy3.MorphAnalyzer()\n",
    "stopwords = nltk.corpus.stopwords.words('russian')\n",
    "stopwords.extend(['документ', 'номер', 'тинькофф', \"отзыв\", \"недостаток\", \"достоинство\", \"банк\"])\n"
   ]
  },
  {
   "cell_type": "code",
   "execution_count": null,
   "id": "6da40cfc-bc6c-45ce-8346-4cd5a5dfb759",
   "metadata": {},
   "outputs": [],
   "source": [
    "def cl_text(text):\n",
    "    c = text.lower()\n",
    "    c = re.sub(r'crm[^\\n]+', '', c)\n",
    "    c = re.sub(r'\\n+', ' ', c)\n",
    "    c = re.sub(r'\\s+', ' ', c)\n",
    "    c = re.sub(r\"[A-Za-z!#$%&'()*+,./:;<=>?@[\\]^_`{|}~—\\\"\\-]+\", ' ', c)\n",
    "    return c.strip()"
   ]
  },
  {
   "cell_type": "code",
   "execution_count": null,
   "id": "59e16bcb-f5dd-44db-8f48-8b93d234b169",
   "metadata": {},
   "outputs": [],
   "source": [
    "def lemmatize(text):\n",
    "    tokens = []\n",
    "    text = re.sub(r\"\\d+\", '', text.lower()) \n",
    "    for token in text.split():\n",
    "        token = token.strip()\n",
    "        token = morph.normal_forms(token)[0].replace('ё', 'е')\n",
    "        if token and token not in stopwords: tokens.append(token)\n",
    "    if len(tokens) > 2: tokens = ' '.join(tokens)\n",
    "    return tokens"
   ]
  },
  {
   "cell_type": "code",
   "execution_count": null,
   "id": "e2057abd-ecf2-4c32-b3a8-faf2990144fb",
   "metadata": {},
   "outputs": [],
   "source": [
    "for i in range(len(response_texts)):\n",
    "    response_texts[i] = cl_text(response_texts[i])\n",
    "    response_texts[i] = lemmatize(response_texts[i])"
   ]
  },
  {
   "cell_type": "code",
   "execution_count": null,
   "id": "7cee839c-44be-444f-bef5-a8a32d2937fe",
   "metadata": {},
   "outputs": [],
   "source": [
    "word2vec_model = Word2Vec(sentences=response_texts, vector_size=100, window=5, min_count=1, workers=4)"
   ]
  },
  {
   "cell_type": "code",
   "execution_count": null,
   "id": "2d4d4c33-3764-47af-89bd-19faa3f2ae3f",
   "metadata": {},
   "outputs": [],
   "source": [
    "def document_vector(word2vec_model, doc):\n",
    "    doc = [word for word in doc if word in word2vec_model.wv.key_to_index]\n",
    "    return np.mean(word2vec_model.wv[doc], axis=0)"
   ]
  },
  {
   "cell_type": "code",
   "execution_count": null,
   "id": "f0a06b5e-8433-4edd-9e3b-e186d2838232",
   "metadata": {},
   "outputs": [],
   "source": [
    "X = [document_vector(word2vec_model, doc) for doc in response_texts]\n",
    "X = np.nan_to_num(X)"
   ]
  },
  {
   "cell_type": "code",
   "execution_count": null,
   "id": "b303d819-fdda-4c6f-a28a-871b2552e341",
   "metadata": {},
   "outputs": [],
   "source": [
    "kmeans = KMeans(n_clusters=5) #можно менять\n",
    "kmeans.fit(X)\n",
    "kmeans_clusters = kmeans.labels_"
   ]
  },
  {
   "cell_type": "code",
   "execution_count": null,
   "id": "8dcc2e82-47f1-4d64-9967-9f75f132c273",
   "metadata": {},
   "outputs": [],
   "source": [
    "tfidf_vectorizer = TfidfVectorizer()\n",
    "tfidf_matrix = tfidf_vectorizer.fit_transform(response_texts)"
   ]
  },
  {
   "cell_type": "code",
   "execution_count": null,
   "id": "69ef008f-0ea7-4014-9da7-f3068cf8bd1f",
   "metadata": {},
   "outputs": [],
   "source": [
    "un_clust = sorted(list(set(kmeans_clusters)))"
   ]
  },
  {
   "cell_type": "code",
   "execution_count": null,
   "id": "d04a5b31-ac79-4c6d-8504-c01f4f96784d",
   "metadata": {},
   "outputs": [],
   "source": [
    "for cluster_idx in un_clust:\n",
    "    cluster_indices = np.where(kmeans_clusters == cluster_idx)[0]\n",
    "    cluster_texts = [response_texts[i] for i in cluster_indices]\n",
    "    cluster_tfidf = tfidf_matrix[cluster_indices].mean(axis=0)\n",
    "    cluster_tfidf = np.asarray(cluster_tfidf).reshape(-1)\n",
    "    \n",
    "    significant_indices = np.argpartition(cluster_tfidf, -10)[-10:]\n",
    "\n",
    "    significant_words = [tfidf_vectorizer.get_feature_names_out()[i] for i in significant_indices]"
   ]
  },
  {
   "cell_type": "code",
   "execution_count": null,
   "id": "eee7806a-c94f-4726-b57d-40c7971140a5",
   "metadata": {},
   "outputs": [],
   "source": [
    "good_resp = response_values.count(\"5\") + response_values.count(\"4\")\n",
    "bad_resp = response_values.count(\"2\") + response_values.count(\"1\")\n",
    "neutral_resp = response_values.count(\"3\")\n",
    "num_resp = len(response_values)"
   ]
  },
  {
   "cell_type": "code",
   "execution_count": null,
   "id": "234135ed-da12-48c5-94c9-a92b5e3f5d17",
   "metadata": {},
   "outputs": [],
   "source": [
    "print(f\"Положительных отзывов {good_resp}, это {good_resp / num_resp * 100}% от общего количества.\")\n",
    "print(f\"Отрицательных отзывов {bad_resp}, это {bad_resp / num_resp * 100}% от общего количества.\")\n",
    "print(f\"Нейтральных отзывов {neutral_resp}, это {neutral_resp / num_resp * 100}% от общего количества.\")"
   ]
  },
  {
   "cell_type": "code",
   "execution_count": 50,
   "id": "61349dce-f38e-40a1-b998-b2db57a80622",
   "metadata": {},
   "outputs": [],
   "source": [
    "diagram = []\n",
    "kmeans_clusters = list(kmeans_clusters)"
   ]
  },
  {
   "cell_type": "code",
   "execution_count": 51,
   "id": "933a0f3c-6308-4ed7-b359-d5c2e4687021",
   "metadata": {},
   "outputs": [],
   "source": [
    "for i in un_clust:\n",
    "    diagram.append(kmeans_clusters.count(i))"
   ]
  },
  {
   "cell_type": "code",
   "execution_count": 52,
   "id": "ca953ca2-de12-403c-8191-3e858e993c57",
   "metadata": {},
   "outputs": [
    {
     "data": {
      "image/png": "[encoded data removed]",
      "text/plain": [
       "<Figure size 640x480 with 1 Axes>"
      ]
     },
     "metadata": {},
     "output_type": "display_data"
    }
   ],
   "source": [
    "plt.pie(diagram, labels=un_clust)\n",
    "plt.show()"
   ]
  },
  {
   "cell_type": "code",
   "execution_count": null,
   "id": "2485e694-7155-449a-847e-bfc4ae13da17",
   "metadata": {},
   "outputs": [],
   "source": [
    "print(\"Самые частые слова для каждого кластера:\")\n",
    "for i in un_clust:\n",
    "    print(f\"Кластер {i}, самые частые слова: {top_words[i]}.\")"
   ]
  },
  {
   "cell_type": "code",
   "execution_count": 34,
   "id": "2ffa370d-285b-43e0-b4ff-4d1b3d9fc99e",
   "metadata": {},
   "outputs": [],
   "source": [
    "positive_resp = defaultdict(int)\n",
    "neutral_resp = defaultdict(int)\n",
    "negative_resp = defaultdict(int)"
   ]
  },
  {
   "cell_type": "code",
   "execution_count": 35,
   "id": "d9338c9a-f08c-4799-941d-9d5e8c923c38",
   "metadata": {},
   "outputs": [],
   "source": [
    "dat_to_dat = {\"янв\":\"01\", \"фев\":\"02\", \"мар\":\"03\", \"апр\":\"04\", \"мая\":\"05\", \"июн\":\"06\", \"июл\":\"07\", \"авг\":\"08\", \"сен\":\"09\", \"окт\":\"10\", \"ноя\":\"11\", \"дек\":\"12\"}"
   ]
  },
  {
   "cell_type": "code",
   "execution_count": 36,
   "id": "d642f846-bfca-477a-a9ee-0b9d2e72df91",
   "metadata": {},
   "outputs": [],
   "source": [
    "resp_count = len(response_dates)"
   ]
  },
  {
   "cell_type": "code",
   "execution_count": 37,
   "id": "df17dad9-1d72-4c8d-84df-f16261a196dc",
   "metadata": {},
   "outputs": [],
   "source": [
    "for i in range(resp_count):\n",
    "    date = response_dates[i].split()\n",
    "    year_month = date[2] + '-' + dat_to_dat[date[1]]\n",
    "    if int(response_values[i]) > 3:\n",
    "        positive_resp[year_month] += 1\n",
    "    elif int(response_values[i]) < 3:\n",
    "        negative_resp[year_month] += 1\n",
    "    else:\n",
    "        neutral_resp[year_month] += 1"
   ]
  },
  {
   "cell_type": "code",
   "execution_count": 38,
   "id": "d4b44317-a87c-4417-9abc-8cc11012c292",
   "metadata": {},
   "outputs": [],
   "source": [
    "x = list(positive_resp.keys()) \n",
    "y_positive = list(positive_resp.values())\n",
    "y_neutral = [neutral_resp[month] for month in x]\n",
    "y_negative = [negative_resp[month] for month in x]"
   ]
  },
  {
   "cell_type": "code",
   "execution_count": 39,
   "id": "24caf413-4fdd-4157-b312-9e1f77bc704c",
   "metadata": {},
   "outputs": [
    {
     "data": {
      "image/png": "[encoded data removed]",
      "text/plain": [
       "<Figure size 640x480 with 1 Axes>"
      ]
     },
     "metadata": {},
     "output_type": "display_data"
    }
   ],
   "source": [
    "plt.plot(x, y_positive, label='Положительные', marker='o')\n",
    "plt.plot(x, y_neutral, label='Нейтральные', marker='o')\n",
    "plt.plot(x, y_negative, label='Отрицательные', marker='o')\n",
    "\n",
    "plt.xlabel('Год и месяц')\n",
    "plt.ylabel('Количество отзывов')\n",
    "plt.title('Статистика отзывов')\n",
    "plt.xticks(rotation=45)\n",
    "plt.legend()\n",
    "plt.grid(True)\n",
    "plt.tight_layout()\n",
    "\n",
    "plt.show()\n"
   ]
  },
  {
   "cell_type": "code",
   "execution_count": null,
   "id": "12b8830c-c7e6-44df-8248-abb2ded9ca52",
   "metadata": {},
   "outputs": [],
   "source": []
  },
  {
   "cell_type": "code",
   "execution_count": null,
   "id": "5f84ca38-19fd-4ef6-9ac7-205467d13151",
   "metadata": {},
   "outputs": [],
   "source": []
  }
 ],
 "metadata": {
  "kernelspec": {
   "display_name": "Python 3 (ipykernel)",
   "language": "python",
   "name": "python3"
  },
  "language_info": {
   "codemirror_mode": {
    "name": "ipython",
    "version": 3
   },
   "file_extension": ".py",
   "mimetype": "text/x-python",
   "name": "python",
   "nbconvert_exporter": "python",
   "pygments_lexer": "ipython3",
   "version": "3.11.2"
  }
 },
 "nbformat": 4,
 "nbformat_minor": 5
}
